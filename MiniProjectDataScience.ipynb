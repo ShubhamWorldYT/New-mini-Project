{
  "nbformat": 4,
  "nbformat_minor": 0,
  "metadata": {
    "colab": {
      "provenance": []
    },
    "kernelspec": {
      "name": "python3",
      "display_name": "Python 3"
    },
    "language_info": {
      "name": "python"
    }
  },
  "cells": [
    {
      "cell_type": "code",
      "source": [
        "#Q1 : What is the rate between Male to Female that participate at the olympic ?"
      ],
      "metadata": {
        "id": "vC5MHKjH-F9e"
      },
      "execution_count": 14,
      "outputs": []
    },
    {
      "cell_type": "code",
      "execution_count": 69,
      "metadata": {
        "id": "YJizhhuU_hdn"
      },
      "outputs": [],
      "source": [
        "import pandas as pd\n",
        "import matplotlib.pyplot as plt"
      ]
    },
    {
      "cell_type": "code",
      "source": [
        "df = pd.read_csv(r'/content/Q1 rate.csv')\n",
        "print(df)"
      ],
      "metadata": {
        "colab": {
          "base_uri": "https://localhost:8080/"
        },
        "id": "EMwhUgAl_r27",
        "outputId": "682c3ef4-525c-45d4-ecfe-90f1270c51fc"
      },
      "execution_count": 70,
      "outputs": [
        {
          "output_type": "stream",
          "name": "stdout",
          "text": [
            "   Gender  Count\n",
            "0   male   50942\n",
            "1  female  18015\n"
          ]
        }
      ]
    },
    {
      "cell_type": "code",
      "source": [
        "plt.title(\"Rate between Male and Female\")\n",
        "plt.ylabel(\"Count\")\n",
        "Gender = ['Male', 'Female']\n",
        "explode = (0.01, 0.01)\n",
        "count = [50942, 18015]\n",
        "plt.pie(count, labels = Gender, autopct='%1.1f%%', pctdistance=0.85, explode=explode)\n",
        "\n",
        "centre_circle = plt.Circle((0, 0), 0.70, fc='white')\n",
        "fig = plt.gcf()\n",
        "\n",
        "fig.gca().add_artist(centre_circle)"
      ],
      "metadata": {
        "colab": {
          "base_uri": "https://localhost:8080/",
          "height": 445
        },
        "id": "Cz0miOZaHw9j",
        "outputId": "abbba6ba-814a-4db1-dd04-f4d29f8664d9"
      },
      "execution_count": 142,
      "outputs": [
        {
          "output_type": "execute_result",
          "data": {
            "text/plain": [
              "<matplotlib.patches.Circle at 0x78b84fb83be0>"
            ]
          },
          "metadata": {},
          "execution_count": 142
        },
        {
          "output_type": "display_data",
          "data": {
            "text/plain": [
              "<Figure size 640x480 with 1 Axes>"
            ],
            "image/png": "[encoded data removed]"
          },
          "metadata": {}
        }
      ]
    },
    {
      "cell_type": "code",
      "source": [
        "#Q2 : What is number of participants per year ?"
      ],
      "metadata": {
        "id": "DRgnKMSh-Ko8"
      },
      "execution_count": 72,
      "outputs": []
    },
    {
      "cell_type": "code",
      "source": [
        "df_Name = pd.read_csv(\"dataset_olympics.csv\")\n",
        "Dup_Rows = df_Name[df_Name.duplicated()]\n",
        "\n",
        "DF_RM_DUP = df_Name.drop_duplicates(subset='Name')\n",
        "print('\\n\\nparticipants per year :\\n', DF_RM_DUP.head(n=7000))"
      ],
      "metadata": {
        "id": "c1PRkVaav7Bt",
        "colab": {
          "base_uri": "https://localhost:8080/"
        },
        "outputId": "34bcf86c-ae2f-46c0-adb9-dfb0518abfb9"
      },
      "execution_count": 139,
      "outputs": [
        {
          "output_type": "stream",
          "name": "stdout",
          "text": [
            "\n",
            "\n",
            "participants per year :\n",
            "          ID                            Name Sex   Age  Height  Weight  \\\n",
            "0         1                       A Dijiang   M  24.0   180.0    80.0   \n",
            "1         2                        A Lamusi   M  23.0   170.0    60.0   \n",
            "2         3             Gunnar Nielsen Aaby   M  24.0     NaN     NaN   \n",
            "3         4            Edgar Lindenau Aabye   M  34.0     NaN     NaN   \n",
            "4         5        Christine Jacoba Aaftink   F  21.0   185.0    82.0   \n",
            "...     ...                             ...  ..   ...     ...     ...   \n",
            "12874  7016                   Georgia Baker   F  21.0   179.0    66.0   \n",
            "12875  7017           Benjamin Howard Baker   M  20.0   190.0    89.0   \n",
            "12879  7018  Joann Elaine Baker (-Anderson)   F  15.0   168.0    54.0   \n",
            "12882  7019                John David Baker   M  21.0   180.0    76.0   \n",
            "12883  7020                  Kathleen Baker   F  19.0   173.0    68.0   \n",
            "\n",
            "                 Team  NOC        Games  Year  Season            City  \\\n",
            "0               China  CHN  1992 Summer  1992  Summer       Barcelona   \n",
            "1               China  CHN  2012 Summer  2012  Summer          London   \n",
            "2             Denmark  DEN  1920 Summer  1920  Summer       Antwerpen   \n",
            "3      Denmark/Sweden  DEN  1900 Summer  1900  Summer           Paris   \n",
            "4         Netherlands  NED  1988 Winter  1988  Winter         Calgary   \n",
            "...               ...  ...          ...   ...     ...             ...   \n",
            "12874       Australia  AUS  2016 Summer  2016  Summer  Rio de Janeiro   \n",
            "12875   Great Britain  GBR  1912 Summer  1912  Summer       Stockholm   \n",
            "12879          Canada  CAN  1976 Summer  1976  Summer        Montreal   \n",
            "12882   Great Britain  GBR  1972 Summer  1972  Summer          Munich   \n",
            "12883   United States  USA  2016 Summer  2016  Summer  Rio de Janeiro   \n",
            "\n",
            "               Sport                                     Event   Medal  \n",
            "0         Basketball               Basketball Men's Basketball     NaN  \n",
            "1               Judo              Judo Men's Extra-Lightweight     NaN  \n",
            "2           Football                   Football Men's Football     NaN  \n",
            "3         Tug-Of-War               Tug-Of-War Men's Tug-Of-War    Gold  \n",
            "4      Speed Skating          Speed Skating Women's 500 metres     NaN  \n",
            "...              ...                                       ...     ...  \n",
            "12874        Cycling              Cycling Women's Team Pursuit     NaN  \n",
            "12875      Athletics                 Athletics Men's High Jump     NaN  \n",
            "12879       Swimming  Swimming Women's 100 metres Breaststroke     NaN  \n",
            "12882         Diving                  Diving Men's Springboard     NaN  \n",
            "12883       Swimming    Swimming Women's 100 metres Backstroke  Silver  \n",
            "\n",
            "[7000 rows x 15 columns]\n"
          ]
        }
      ]
    },
    {
      "cell_type": "code",
      "source": [
        "#Q3 : What is the most year participants win Gold Medal ?"
      ],
      "metadata": {
        "id": "eDY1pOoi-fir"
      },
      "execution_count": 74,
      "outputs": []
    },
    {
      "cell_type": "code",
      "source": [
        "gold_medal_winners = data[data['Medal'] == 'Gold']\n",
        "most_gold_medal_year = gold_medal_winners.groupby('Year')['ID'].nunique().idxmax()\n",
        "print(\"year in which most participants won gold medals:-\", most_gold_medal_year)"
      ],
      "metadata": {
        "id": "v6RWFqoSzja4",
        "colab": {
          "base_uri": "https://localhost:8080/"
        },
        "outputId": "1cae82c6-a7ae-4ccf-be8c-62185ee1c6e4"
      },
      "execution_count": 141,
      "outputs": [
        {
          "output_type": "stream",
          "name": "stdout",
          "text": [
            "year in which most participants won gold medals:- 2016\n"
          ]
        }
      ]
    },
    {
      "cell_type": "code",
      "source": [
        "#Q4 : What is higher sport that Sporter play it?"
      ],
      "metadata": {
        "id": "H3oNPOrj992q"
      },
      "execution_count": 76,
      "outputs": []
    },
    {
      "cell_type": "code",
      "source": [
        "from collections import Counter\n",
        "df = pd.read_csv(\"dataset_olympics.csv\")\n",
        "occurrences = Counter(df['Sport'])\n",
        "most_used_word = max(occurrences, key=occurrences.get)\n",
        "print(\"Sport that sportspersons played the most:-\", most_used_word)"
      ],
      "metadata": {
        "id": "LPg5Sptg2C1E",
        "colab": {
          "base_uri": "https://localhost:8080/"
        },
        "outputId": "bfc69592-d56c-47e6-fb5c-b0b14fcd8915"
      },
      "execution_count": 140,
      "outputs": [
        {
          "output_type": "stream",
          "name": "stdout",
          "text": [
            "Sport that sportspersons played the most:- Athletics\n"
          ]
        }
      ]
    }
  ]
}